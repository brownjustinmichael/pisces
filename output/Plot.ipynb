{
 "metadata": {
  "name": ""
 },
 "nbformat": 3,
 "nbformat_minor": 0,
 "worksheets": [
  {
   "cells": [
    {
     "cell_type": "code",
     "collapsed": false,
     "input": [
      "from yt.mods import *\n",
      "from scipy.io.netcdf import *\n",
      "from matplotlib import pyplot"
     ],
     "language": "python",
     "metadata": {},
     "outputs": [],
     "prompt_number": 1
    },
    {
     "cell_type": "code",
     "collapsed": false,
     "input": [
      "file = netcdf_file (\"output0.cdf\", \"r\")"
     ],
     "language": "python",
     "metadata": {},
     "outputs": [],
     "prompt_number": 2
    },
    {
     "cell_type": "code",
     "collapsed": false,
     "input": [
      "x = file.variables ['x']\n",
      "z = file.variables ['z']\n",
      "data = file.variables ['data']\n",
      "dictionary = {\"x\" : x, \"z\" : z, \"data\" : data}"
     ],
     "language": "python",
     "metadata": {},
     "outputs": [],
     "prompt_number": 7
    },
    {
     "cell_type": "code",
     "collapsed": false,
     "input": [
      "grid = load_uniform_grid (dictionary, data.shape, 2.0)"
     ],
     "language": "python",
     "metadata": {},
     "outputs": [
      {
       "ename": "ValueError",
       "evalue": "total size of new array must be unchanged",
       "output_type": "pyerr",
       "traceback": [
        "\u001b[0;31m---------------------------------------------------------------------------\u001b[0m\n\u001b[0;31mValueError\u001b[0m                                Traceback (most recent call last)",
        "\u001b[0;32m<ipython-input-10-0d987defcbfd>\u001b[0m in \u001b[0;36m<module>\u001b[0;34m()\u001b[0m\n\u001b[0;32m----> 1\u001b[0;31m \u001b[0mgrid\u001b[0m \u001b[0;34m=\u001b[0m \u001b[0mload_uniform_grid\u001b[0m \u001b[0;34m(\u001b[0m\u001b[0mdictionary\u001b[0m\u001b[0;34m,\u001b[0m \u001b[0mdata\u001b[0m\u001b[0;34m.\u001b[0m\u001b[0mshape\u001b[0m\u001b[0;34m,\u001b[0m \u001b[0;36m2.0\u001b[0m\u001b[0;34m)\u001b[0m\u001b[0;34m\u001b[0m\u001b[0m\n\u001b[0m",
        "\u001b[0;32m/opt/local/Library/Frameworks/Python.framework/Versions/2.7/lib/python2.7/site-packages/yt-2.5.5-py2.7-macosx-10.8-x86_64.egg/yt/frontends/stream/data_structures.pyc\u001b[0m in \u001b[0;36mload_uniform_grid\u001b[0;34m(data, domain_dimensions, sim_unit_to_cm, bbox, nprocs, sim_time, periodicity)\u001b[0m\n\u001b[1;32m    496\u001b[0m         \u001b[0mgrid_left_edges\u001b[0m \u001b[0;34m=\u001b[0m \u001b[0mdomain_left_edge\u001b[0m\u001b[0;34m\u001b[0m\u001b[0m\n\u001b[1;32m    497\u001b[0m         \u001b[0mgrid_right_edges\u001b[0m \u001b[0;34m=\u001b[0m \u001b[0mdomain_right_edge\u001b[0m\u001b[0;34m\u001b[0m\u001b[0m\n\u001b[0;32m--> 498\u001b[0;31m         \u001b[0mgrid_dimensions\u001b[0m \u001b[0;34m=\u001b[0m \u001b[0mdomain_dimensions\u001b[0m\u001b[0;34m.\u001b[0m\u001b[0mreshape\u001b[0m\u001b[0;34m(\u001b[0m\u001b[0mnprocs\u001b[0m\u001b[0;34m,\u001b[0m\u001b[0;36m3\u001b[0m\u001b[0;34m)\u001b[0m\u001b[0;34m.\u001b[0m\u001b[0mastype\u001b[0m\u001b[0;34m(\u001b[0m\u001b[0;34m\"int32\"\u001b[0m\u001b[0;34m)\u001b[0m\u001b[0;34m\u001b[0m\u001b[0m\n\u001b[0m\u001b[1;32m    499\u001b[0m \u001b[0;34m\u001b[0m\u001b[0m\n\u001b[1;32m    500\u001b[0m     handler = StreamHandler(\n",
        "\u001b[0;31mValueError\u001b[0m: total size of new array must be unchanged"
       ]
      }
     ],
     "prompt_number": 10
    },
    {
     "cell_type": "code",
     "collapsed": false,
     "input": [
      "data [0]"
     ],
     "language": "python",
     "metadata": {},
     "outputs": [
      {
       "metadata": {},
       "output_type": "pyout",
       "prompt_number": 23,
       "text": [
        "array([  1.26641655e-14,   1.31615353e-14,   1.47684648e-14,\n",
        "         1.78723300e-14,   2.32833878e-14,   3.25704775e-14,\n",
        "         4.87653245e-14,   7.78429058e-14,   1.31883920e-13,\n",
        "         2.35952408e-13,   4.43285721e-13,   8.69225426e-13,\n",
        "         1.76747797e-12,   3.70152056e-12,   7.92718935e-12,\n",
        "         1.72339968e-11,   3.77513454e-11,   8.26949254e-11,\n",
        "         1.79781764e-10,   3.85021252e-10,   8.06326361e-10,\n",
        "         1.63957938e-09,   3.21500110e-09,   6.04004891e-09,\n",
        "         1.08062005e-08,   1.83082076e-08,   2.92249482e-08,\n",
        "         4.37563153e-08,   6.12094811e-08,   7.97413700e-08,\n",
        "         9.65004894e-08,   1.08282511e-07,   1.12535175e-07,\n",
        "         1.08282511e-07,   9.65004894e-08,   7.97413700e-08,\n",
        "         6.12094811e-08,   4.37563153e-08,   2.92249482e-08,\n",
        "         1.83082076e-08,   1.08062005e-08,   6.04004891e-09,\n",
        "         3.21500110e-09,   1.63957938e-09,   8.06326361e-10,\n",
        "         3.85021252e-10,   1.79781764e-10,   8.26949254e-11,\n",
        "         3.77513454e-11,   1.72339968e-11,   7.92718935e-12,\n",
        "         3.70152056e-12,   1.76747797e-12,   8.69225426e-13,\n",
        "         4.43285721e-13,   2.35952408e-13,   1.31883920e-13,\n",
        "         7.78429058e-14,   4.87653245e-14,   3.25704775e-14,\n",
        "         2.32833878e-14,   1.78723300e-14,   1.47684648e-14,\n",
        "         1.31615353e-14,   1.26641655e-14])"
       ]
      }
     ],
     "prompt_number": 23
    },
    {
     "cell_type": "code",
     "collapsed": false,
     "input": [],
     "language": "python",
     "metadata": {},
     "outputs": []
    }
   ],
   "metadata": {}
  }
 ]
}